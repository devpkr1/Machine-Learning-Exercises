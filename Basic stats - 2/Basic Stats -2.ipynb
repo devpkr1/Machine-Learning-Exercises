{
 "cells": [
  {
   "cell_type": "markdown",
   "metadata": {},
   "source": [
    "# Estimation And Confidence Intervals"
   ]
  },
  {
   "cell_type": "code",
   "execution_count": 1,
   "metadata": {},
   "outputs": [],
   "source": [
    "# Importing Libraries\n",
    "import numpy as np\n",
    "from scipy import stats"
   ]
  },
  {
   "cell_type": "code",
   "execution_count": 2,
   "metadata": {},
   "outputs": [
    {
     "data": {
      "text/plain": [
       "[1.13,\n",
       " 1.55,\n",
       " 1.43,\n",
       " 0.92,\n",
       " 1.25,\n",
       " 1.36,\n",
       " 1.32,\n",
       " 0.85,\n",
       " 1.07,\n",
       " 1.48,\n",
       " 1.2,\n",
       " 1.33,\n",
       " 1.18,\n",
       " 1.22,\n",
       " 1.29]"
      ]
     },
     "execution_count": 2,
     "metadata": {},
     "output_type": "execute_result"
    }
   ],
   "source": [
    "# Loading Data\n",
    "data = [1.13, 1.55, 1.43, 0.92, 1.25, 1.36, 1.32, 0.85, 1.07, 1.48, 1.20, 1.33, 1.18, 1.22, 1.29]\n",
    "data"
   ]
  },
  {
   "cell_type": "markdown",
   "metadata": {},
   "source": [
    "## a). 99% Confidence Interval Using Sample Standard Deviation\n",
    "\n",
    "To construct a 99% confidence interval for the mean number of characters printed before the print-head fails using the sample standard deviation, the following steps were taken:"
   ]
  },
  {
   "cell_type": "markdown",
   "metadata": {},
   "source": [
    "### 1. Calculate the Sample Mean and Standard Deviation\n",
    "\n",
    "- **Sample Mean ($\\bar{x}$)**: The average durability of the print-heads, calculated as the sum of all observed values divided by the number of observations.\n",
    "\n",
    "$\\bar{x} = \\frac{\\sum(x)}{15}$\n",
    "\n",
    "- **Sample Standard Deviation ($s$)**: A measure of the dispersion of the data points around the sample mean, adjusted for the small sample size using Bessel's correction ($n-1$ degrees of freedom).\n",
    "\n",
    "$s = \\sqrt{\\frac{\\sum(x_i - \\bar{x})^2}{n-1}}$"
   ]
  },
  {
   "cell_type": "code",
   "execution_count": 3,
   "metadata": {},
   "outputs": [
    {
     "name": "stdout",
     "output_type": "stream",
     "text": [
      "Sample mean:  1.239\n"
     ]
    }
   ],
   "source": [
    "# Calculation of sample mean\n",
    "sample_mean = np.mean(data)\n",
    "print(\"Sample mean: \", round(sample_mean, 3))"
   ]
  },
  {
   "cell_type": "code",
   "execution_count": 4,
   "metadata": {},
   "outputs": [
    {
     "name": "stdout",
     "output_type": "stream",
     "text": [
      "Sample Standard Deviation:  0.193\n"
     ]
    }
   ],
   "source": [
    "# Calculation of sample standard deviation\n",
    "sample_std = np.std(data, ddof=1)                            # ddof =1 is used for bessel's correction\n",
    "print(\"Sample Standard Deviation: \", round(sample_std,3))"
   ]
  },
  {
   "cell_type": "markdown",
   "metadata": {},
   "source": [
    "### 2. Determine the t-critical value\n",
    "\n",
    "- **Why t-distribution?**:\n",
    "  - The t-distribution is used when the sample size is small (typically $n<30$) and the population standard deviation is unknown.\n",
    "  - The t-distribution accounts for the additional uncertainty introduced by estimating the population standard deviation from the sample."
   ]
  },
  {
   "cell_type": "code",
   "execution_count": 6,
   "metadata": {},
   "outputs": [
    {
     "name": "stdout",
     "output_type": "stream",
     "text": [
      "Degree of freedom =  14\n"
     ]
    }
   ],
   "source": [
    "# Calculating degree of freedom (n-1)\n",
    "dof = len(data)-1\n",
    "print('Degree of freedom = ',dof)"
   ]
  },
  {
   "cell_type": "code",
   "execution_count": 16,
   "metadata": {},
   "outputs": [
    {
     "name": "stdout",
     "output_type": "stream",
     "text": [
      "t-Critical =  2.977\n"
     ]
    }
   ],
   "source": [
    "# Confidence level\n",
    "confidence_level = 0.99\n",
    "alpha = 1 - confidence_level\n",
    "\n",
    "# Calculation of t-Critical value\n",
    "t_critical = stats.t.ppf(1-alpha/2, df=14)\n",
    "print('t-Critical = ',round(t_critical,3))"
   ]
  },
  {
   "cell_type": "markdown",
   "metadata": {},
   "source": [
    "- **t-critical value**: For a 99% confidence interval with degrees of freedom ($n-1$) is 2.977"
   ]
  },
  {
   "cell_type": "markdown",
   "metadata": {},
   "source": [
    "### 3. Calculate the Margin of Error\n",
    "\n",
    "- **Formula**: \n",
    "\n",
    "$\\text{Margin of Error} = t_{\\text{critical}} \\times \\frac{s}{\\sqrt{n}}$"
   ]
  },
  {
   "cell_type": "code",
   "execution_count": 17,
   "metadata": {},
   "outputs": [
    {
     "name": "stdout",
     "output_type": "stream",
     "text": [
      "Margin of error =  0.148\n"
     ]
    }
   ],
   "source": [
    "# Calculating Margin of Error\n",
    "margin_error = t_critical*(sample_std/np.sqrt(len(data)))\n",
    "print(\"Margin of error = \", round(margin_error,3))"
   ]
  },
  {
   "cell_type": "markdown",
   "metadata": {},
   "source": [
    "- **Explanation**:\n",
    "  - The margin of error quantifies the range within which the true population mean is likely to fall. It is influenced by the t-critical value, the sample standard deviation, and the square root of the sample size.\n",
    "  - For this example, the margin of error is approximately 0.148 million characters."
   ]
  },
  {
   "cell_type": "markdown",
   "metadata": {},
   "source": [
    "### 4. Construct the Confidence Interval\n",
    "\n",
    "- **Formula**:\n",
    "\n",
    "$\\text{Confidence Interval} = \\left(\\bar{x} - \\text{Margin of Error}, \\bar{x} + \\text{Margin of Error}\\right)$"
   ]
  },
  {
   "cell_type": "code",
   "execution_count": 18,
   "metadata": {},
   "outputs": [
    {
     "name": "stdout",
     "output_type": "stream",
     "text": [
      "99% Confidence interval =  (1.09, 1.387)\n"
     ]
    }
   ],
   "source": [
    "# Construct confidence interval\n",
    "confi_interval = (round(sample_mean-margin_error,3),round(sample_mean + margin_error,3))\n",
    "print(\"99% Confidence interval = \",confi_interval)"
   ]
  },
  {
   "cell_type": "markdown",
   "metadata": {},
   "source": [
    "- **Explanation**:\n",
    "  - The 99% confidence interval is the range within which we are 99% confident that the true population mean lies.\n",
    "  - In this case, the confidence interval is approximately (1.09, 1.387) million characters."
   ]
  },
  {
   "cell_type": "markdown",
   "metadata": {},
   "source": [
    "## Rationale for Using the t-Distribution\n",
    "\n",
    "- **Unknown Population Standard Deviation**: When the population standard deviation is unknown, we rely on the sample standard deviation as an estimate. This introduces extra variability, which the t-distribution accounts for by having heavier tails compared to the z-distribution.\n",
    "\n",
    "- **Small Sample Size**: With small sample sizes, the sample mean is less likely to be a perfect estimator of the population mean. The t-distribution corrects for this by widening the confidence interval, thus providing a more conservative estimate of the population mean.\n",
    "\n",
    "Using the t-distribution in such cases ensures that the confidence interval accurately reflects the increased uncertainty due to the limited sample size and unknown population parameters."
   ]
  },
  {
   "cell_type": "markdown",
   "metadata": {},
   "source": [
    "## b). 99% Confidence Interval Using Known Population Standard Deviation"
   ]
  },
  {
   "cell_type": "markdown",
   "metadata": {},
   "source": [
    "### 1. Determine the z-critical value\n",
    "\n",
    "- **Why z-distribution?**:\n",
    "  - The z-distribution is used when the population standard deviation is known, regardless of the sample size.\n",
    "  - The z-distribution assumes a normal distribution of the sample mean."
   ]
  },
  {
   "cell_type": "code",
   "execution_count": 15,
   "metadata": {},
   "outputs": [
    {
     "name": "stdout",
     "output_type": "stream",
     "text": [
      "Population Standard Deviation = 0.2\n"
     ]
    }
   ],
   "source": [
    "# Given Population Standard Deviation\n",
    "pop_std = 0.2\n",
    "print('Population Standard Deviation =',pop_std)"
   ]
  },
  {
   "cell_type": "code",
   "execution_count": 21,
   "metadata": {},
   "outputs": [
    {
     "name": "stdout",
     "output_type": "stream",
     "text": [
      "Critical z-value: 2.576\n"
     ]
    }
   ],
   "source": [
    "# Confidence level\n",
    "confidence_level = 0.99\n",
    "alpha = 1 - confidence_level\n",
    "\n",
    "# Calculate critical z-value\n",
    "critical_z = stats.norm.ppf(1-alpha/2)\n",
    "print(\"Critical z-value:\", round(critical_z,3))"
   ]
  },
  {
   "cell_type": "markdown",
   "metadata": {},
   "source": [
    " **z-critical value**: For a 99% confidence interval, the critical value from the z-distribution is approximately 2.576."
   ]
  },
  {
   "cell_type": "markdown",
   "metadata": {},
   "source": [
    "### 2. Calculate the Margin of Error\n",
    "\n",
    "- **Formula**:\n",
    "\n",
    "$\\text{Margin of Error} = z_{\\text{critical}} \\times \\frac{\\sigma}{\\sqrt{n}}$"
   ]
  },
  {
   "cell_type": "code",
   "execution_count": 23,
   "metadata": {},
   "outputs": [
    {
     "name": "stdout",
     "output_type": "stream",
     "text": [
      "Margin of error = 0.133\n"
     ]
    }
   ],
   "source": [
    "# Calculating Margin of Error\n",
    "margin_err = critical_z *(pop_std/np.sqrt(len(data)))\n",
    "print(\"Margin of error =\", round(margin_err,3))"
   ]
  },
  {
   "cell_type": "markdown",
   "metadata": {},
   "source": [
    "- **Explanation**:\n",
    "  - With the population standard deviation ($\\sigma$) known, the margin of error is calculated similarly but uses the z-critical value instead of the t-critical value.\n",
    "  - The margin of error in this case is approximately 0.133 million characters."
   ]
  },
  {
   "cell_type": "markdown",
   "metadata": {},
   "source": [
    "### 3. Construct the Confidence Interval\n",
    "\n",
    "- **Formula**:\n",
    "\n",
    "$\\text{Confidence Interval} = \\left(\\bar{x} - \\text{Margin of Error}, \\bar{x} + \\text{Margin of Error}\\right)$"
   ]
  },
  {
   "cell_type": "code",
   "execution_count": 25,
   "metadata": {},
   "outputs": [
    {
     "name": "stdout",
     "output_type": "stream",
     "text": [
      "99% Confidence interval = (1.106, 1.372)\n"
     ]
    }
   ],
   "source": [
    "# Construct confidence interval\n",
    "confidence_interval = (round(sample_mean - margin_err,3), round(sample_mean + margin_err,3))\n",
    "print(\"99% Confidence interval =\", confidence_interval)"
   ]
  },
  {
   "cell_type": "markdown",
   "metadata": {},
   "source": [
    "- **Explanation**:\n",
    "  - The confidence interval is constructed similarly to the previous step, but the use of the z-distribution typically results in a slightly narrower interval.\n",
    "  - The confidence interval is approximately (1.106, 1.372) million characters."
   ]
  },
  {
   "cell_type": "markdown",
   "metadata": {},
   "source": [
    "####  **Author Information:**\n",
    "- **Author:-**  Er.Pradeep Kumar\n",
    "- **LinkedIn:-**  [https://www.linkedin.com/in/pradeep-kumar-1722b6123/](https://www.linkedin.com/in/pradeep-kumar-1722b6123/)\n",
    "\n",
    "#### **Disclaimer:**\n",
    "This Jupyter Notebook and its contents are shared for educational purposes. The author, Pradeep Kumar, retains ownership and rights to the original content. Any modifications or adaptations should be made with proper attribution and permission from the author."
   ]
  }
 ],
 "metadata": {
  "kernelspec": {
   "display_name": "base",
   "language": "python",
   "name": "python3"
  },
  "language_info": {
   "codemirror_mode": {
    "name": "ipython",
    "version": 3
   },
   "file_extension": ".py",
   "mimetype": "text/x-python",
   "name": "python",
   "nbconvert_exporter": "python",
   "pygments_lexer": "ipython3",
   "version": "3.11.9"
  }
 },
 "nbformat": 4,
 "nbformat_minor": 2
}
