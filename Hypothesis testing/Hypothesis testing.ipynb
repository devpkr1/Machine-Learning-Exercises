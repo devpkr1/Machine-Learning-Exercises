{
 "cells": [
  {
   "cell_type": "markdown",
   "metadata": {},
   "source": [
    "# HYPOTHESIS TESTING"
   ]
  },
  {
   "cell_type": "markdown",
   "metadata": {},
   "source": [
    "## Bombay Hospitality Ltd. Weekly Operating Cost Analysis\n",
    "\n",
    "**Background**\n",
    "\n",
    "- Bombay Hospitality Ltd. operates a franchise model for producing exotic Norwegian dinners throughout New England.\n",
    "- The operating cost for a franchise in a week (W) is given by the equation `W = $1,000 + $5X`, where X represents the number of units produced in a week.\n",
    "- Recent feedback from restaurant owners suggests that this cost model may no longer be accurate, as their observed weekly operating costs are higher.\n",
    "\n",
    "**Objective**\n",
    "\n",
    "- To investigate the restaurant owners' claim about the increase in weekly operating costs using hypothesis testing.\n",
    "\n",
    "**Data Provided**\n",
    "\n",
    "- Theoretical weekly operating cost model: `W = $1,000 + $5X`\n",
    "- Sample of 25 restaurants with a mean weekly cost of Rs. 3,050\n",
    "- Number of units produced in a week (X) follows a normal distribution with a mean (μ) of 600 units and a standard deviation (σ) of 25 units"
   ]
  },
  {
   "cell_type": "markdown",
   "metadata": {},
   "source": [
    "### **1. State the Hypotheses statement:**\n",
    "\n",
    "To investigate the claim that the actual weekly operating costs are higher than the theoretical model suggests, we can set up the hypotheses for hypothesis testing.\n",
    "\n",
    "#### Hypotheses Statements:\n",
    "\n",
    "**Null Hypothesis (H₀):**\n",
    "The mean weekly operating cost for the restaurants is equal to the theoretical cost model, i.e., the observed cost does not differ from the expected cost based on the model.\n",
    "\n",
    "$[ H₀: \\mu_W = 1,000 + 5X ]$\n",
    "\n",
    "**Alternative Hypothesis (H₁):**\n",
    "The mean weekly operating cost for the restaurants is higher than the theoretical cost model, i.e., the observed cost is greater than the expected cost based on the model.\n",
    "\n",
    "$[ H₁: \\mu_W > 1,000 + 5X ]$\n",
    "\n",
    "In this case, the hypothesis testing will determine whether there is significant evidence to support the restaurant owners' claim that the weekly operating costs have increased beyond what the theoretical model predicts."
   ]
  },
  {
   "cell_type": "markdown",
   "metadata": {},
   "source": [
    "### **2. Test Statistic Calculation:**"
   ]
  },
  {
   "cell_type": "code",
   "execution_count": 2,
   "metadata": {},
   "outputs": [
    {
     "name": "stdout",
     "output_type": "stream",
     "text": [
      "Sample Mean =  3050\n"
     ]
    }
   ],
   "source": [
    "# Sample mean (x_bar)\n",
    "\n",
    "sample_mean = 3050\n",
    "print('Sample Mean = ',sample_mean)"
   ]
  },
  {
   "cell_type": "code",
   "execution_count": 3,
   "metadata": {},
   "outputs": [
    {
     "name": "stdout",
     "output_type": "stream",
     "text": [
      "Theoretical mean (W) is:  4000\n"
     ]
    }
   ],
   "source": [
    "# Calculating theoratical mean (W = $1,000 + $5X)\n",
    "X= 600             # Given in the statement \n",
    "W = 1000 + 5 * X  # Calculating W using the formula\n",
    "print(\"Theoretical mean (W) is: \", W)  # Printing the result"
   ]
  },
  {
   "cell_type": "markdown",
   "metadata": {},
   "source": [
    "**Population Standard Deviation ($ \\sigma_W $):**\n",
    "Since the number of units produced follows a normal distribution with $( \\sigma_X = 25 )$ units, the standard deviation of the weekly operating cost can be calculated as:\n",
    "\n",
    "$\\sigma_W = 5 \\times \\sigma_X$"
   ]
  },
  {
   "cell_type": "code",
   "execution_count": 5,
   "metadata": {},
   "outputs": [
    {
     "name": "stdout",
     "output_type": "stream",
     "text": [
      "Population Standard Deviation:  125\n"
     ]
    }
   ],
   "source": [
    "# Population Standard Deviation \n",
    "pop_std = 5*25\n",
    "print(\"Population Standard Deviation: \", pop_std)"
   ]
  },
  {
   "cell_type": "code",
   "execution_count": 6,
   "metadata": {},
   "outputs": [
    {
     "name": "stdout",
     "output_type": "stream",
     "text": [
      "Sample sizee (n) = 25\n"
     ]
    }
   ],
   "source": [
    "# given Sample size (n) \n",
    "\n",
    "n = 25\n",
    "print('Sample sizee (n) =',n)\n"
   ]
  },
  {
   "cell_type": "markdown",
   "metadata": {},
   "source": [
    "#### Test Statistic:\n",
    "\n",
    "The test statistic for a one-sample z-test is calculated as:\n",
    "\n",
    "$z = \\frac{\\bar{X} - \\mu_W}{\\frac{\\sigma_W}{\\sqrt{n}}}$"
   ]
  },
  {
   "cell_type": "code",
   "execution_count": 13,
   "metadata": {},
   "outputs": [
    {
     "name": "stdout",
     "output_type": "stream",
     "text": [
      "Test Statistic (Z) = -38.0\n"
     ]
    }
   ],
   "source": [
    "# Test statistic (z-test)\n",
    "import numpy as np\n",
    "\n",
    "z_statistic = (sample_mean-W)/(pop_std/np.sqrt(n))\n",
    "print('Test Statistic (Z) =',z_statistic)"
   ]
  },
  {
   "cell_type": "markdown",
   "metadata": {},
   "source": [
    "### **3. Determine the Critical Value**"
   ]
  },
  {
   "cell_type": "code",
   "execution_count": 11,
   "metadata": {},
   "outputs": [
    {
     "name": "stdout",
     "output_type": "stream",
     "text": [
      "Significance Level (alpha) = 0.05\n"
     ]
    }
   ],
   "source": [
    "# Given Significance level (alpha)\n",
    "\n",
    "alpha = 0.05\n",
    "print('Significance Level (alpha) =',alpha)"
   ]
  },
  {
   "cell_type": "markdown",
   "metadata": {},
   "source": [
    "- Since the alternative hypothesis is $( H_1: \\mu_W > 4,000 )$, this is a one-tailed test (right-tailed).\n",
    "\n",
    "- The critical value $( z_{\\text{critical}} )$ is the z-score that corresponds to the upper tail probability of $( \\alpha = 0.05 )$ in a standard normal distribution."
   ]
  },
  {
   "cell_type": "code",
   "execution_count": 12,
   "metadata": {},
   "outputs": [
    {
     "name": "stdout",
     "output_type": "stream",
     "text": [
      "Z Critical = 1.645\n"
     ]
    }
   ],
   "source": [
    "# Z-critical Calculation\n",
    "\n",
    "from scipy import stats\n",
    "Z_critical = stats.norm.ppf(1-alpha)\n",
    "print('Z Critical =',round(Z_critical,3))"
   ]
  },
  {
   "cell_type": "markdown",
   "metadata": {},
   "source": [
    "### **4. Making Decision**\n",
    "\n",
    "When comparing the test statistic $( z_{\\text{statistic}} )$ to the critical value $( z_{\\text{critical}} )$, the relationship between them determines whether we reject or fail to reject the null hypothesis."
   ]
  },
  {
   "cell_type": "code",
   "execution_count": 14,
   "metadata": {},
   "outputs": [
    {
     "data": {
      "text/plain": [
       "True"
      ]
     },
     "execution_count": 14,
     "metadata": {},
     "output_type": "execute_result"
    }
   ],
   "source": [
    "z_statistic < Z_critical"
   ]
  },
  {
   "cell_type": "markdown",
   "metadata": {},
   "source": [
    "### Interpretation:\n",
    "- **$( z_{\\text{statistic}} < z_{\\text{critical}} )$**: \n",
    "  - In this case, $( z_{\\text{statistic}} = -38 )$ is much less than $( z_{\\text{critical}} = 1.645 )$.\n",
    "  - Since the test statistic is far less than the critical value, it lies in the left tail of the normal distribution.\n",
    "\n",
    "  **Therefore, we fail to reject the null hypothesis**"
   ]
  },
  {
   "cell_type": "markdown",
   "metadata": {},
   "source": [
    "### **5. Conclusion**"
   ]
  },
  {
   "cell_type": "markdown",
   "metadata": {},
   "source": [
    "- **Fail to Reject the Null Hypothesis**: In this context, because $( z_{\\text{statistic}} )$ is less than $( z_{\\text{critical}} )$, we do **not** have sufficient evidence to reject the null hypothesis $( H_0 )$.\n",
    "- This means there is no statistical evidence to support the claim that the actual mean weekly operating costs are higher than the theoretical model predicts."
   ]
  },
  {
   "cell_type": "markdown",
   "metadata": {},
   "source": [
    "# CHI-SQUARE TEST"
   ]
  },
  {
   "cell_type": "markdown",
   "metadata": {},
   "source": [
    "## Chi-Square Test for Association Between Device Type and Customer Satisfaction"
   ]
  },
  {
   "cell_type": "markdown",
   "metadata": {},
   "source": [
    "**Background**\n",
    "\n",
    "Mizzare Corporation has collected data on customer satisfaction levels for two types of smart home devices: Smart Thermostats and Smart Lights. They want to determine if there's a significant association between the type of device purchased and the customer's satisfaction level.\n",
    "\n",
    "**Data Provided**\n",
    "\n",
    "The data is summarized in a contingency table showing the counts of customers in each satisfaction level for both types of devices:\n",
    "\n",
    "| Satisfaction       | Smart Thermostat | Smart Light | Total |\n",
    "|--------------------|------------------|-------------|-------|\n",
    "| Very Satisfied      | 50               | 70          | 120   |\n",
    "| Satisfied           | 80               | 100         | 180   |\n",
    "| Neutral             | 60               | 90          | 150   |\n",
    "| Unsatisfied         | 30               | 50          | 80    |\n",
    "| Very Unsatisfied    | 20               | 50          | 70    |\n",
    "| **Total**           | **240**          | **360**     | **600**|\n",
    "\n",
    "**Objective**\n",
    "\n",
    "To use the Chi-Square test for independence to determine if there's a significant association between the type of smart home device purchased (Smart Thermostats vs. Smart Lights) and the customer satisfaction level.\n"
   ]
  },
  {
   "cell_type": "markdown",
   "metadata": {},
   "source": [
    "### 1. **Formulate Hypotheses**\n",
    "   - **Null Hypothesis $(H_0)$**: There is no association between the type of device purchased and customer satisfaction level. In other words, the type of device and customer satisfaction are independent.\n",
    "   \n",
    "   - **Alternative Hypothesis $(H_1)$**: There is an association between the type of device purchased and customer satisfaction level. The type of device and customer satisfaction are not independent."
   ]
  },
  {
   "cell_type": "markdown",
   "metadata": {},
   "source": [
    "### 2. **Chi-Square Statistic Calculation**"
   ]
  },
  {
   "cell_type": "markdown",
   "metadata": {},
   "source": [
    "#### Importing libraries and creating numpy array of observed frequencies"
   ]
  },
  {
   "cell_type": "code",
   "execution_count": 20,
   "metadata": {},
   "outputs": [
    {
     "name": "stdout",
     "output_type": "stream",
     "text": [
      "Observed Frequencies:\n",
      "[[ 50  70]\n",
      " [ 80 100]\n",
      " [ 60  90]\n",
      " [ 30  50]\n",
      " [ 20  50]]\n"
     ]
    }
   ],
   "source": [
    "import scipy.stats as stats\n",
    "import numpy as np\n",
    "\n",
    "# Observed frequencies\n",
    "observed = np.array([\n",
    "    [50, 70],   # Very Satisfied\n",
    "    [80, 100],  # Satisfied\n",
    "    [60, 90],   # Neutral\n",
    "    [30, 50],   # Unsatisfied\n",
    "    [20, 50]    # Very Unsatisfied\n",
    "])\n",
    "print('Observed Frequencies:')\n",
    "print(observed)\n"
   ]
  },
  {
   "cell_type": "markdown",
   "metadata": {},
   "source": [
    "**Expected Frequencies**\n",
    "\n",
    "   For each cell in the table, calculate the expected frequency using the formula:\n",
    "\n",
    "   $E_{ij} = \\frac{(Row\\ Total \\times Column\\ Total)}{Grand\\ Total}$\n",
    "\n",
    "**Chi-Square Statistic Calculation**\n",
    "\n",
    "   The Chi-Square statistic is calculated as:\n",
    "\n",
    "   $\\chi^2 = \\sum \\frac{(O_{ij} - E_{ij})^2}{E_{ij}}$\n",
    "\n",
    "   Where $(O_{ij})$ is the observed frequency and $(E_{ij})$ is the expected frequency.\n",
    "\n",
    "**Degrees of Freedom**\n",
    "\n",
    "   The degrees of freedom for this test is calculated as:\n",
    "\n",
    "   $df = (r-1) \\times (c-1)$\n",
    "\n",
    "   Where $(r)$ is the number of rows and $(c)$ is the number of columns in the contingency table.\n",
    "\n",
    "**P-Value and Conclusion**\n",
    "\n",
    "   Using the Chi-Square statistic and the degrees of freedom, determine the p-value from the Chi-Square distribution. Compare the p-value to the significance level (commonly ($alpha = 0.05)$) to decide whether to reject the null hypothesis.\n",
    "\n",
    "**Let's perform the calculations now.**"
   ]
  },
  {
   "cell_type": "code",
   "execution_count": 30,
   "metadata": {},
   "outputs": [
    {
     "name": "stdout",
     "output_type": "stream",
     "text": [
      "Chi-Square Statistic: 5.638\n",
      "Degrees of Freedom: 4\n",
      "P-Value: 0.228\n",
      "Expected Frequencies:\n",
      "[[ 48.  72.]\n",
      " [ 72. 108.]\n",
      " [ 60.  90.]\n",
      " [ 32.  48.]\n",
      " [ 28.  42.]]\n"
     ]
    }
   ],
   "source": [
    "# Perform Chi-Square test for independence\n",
    "chi2_statistics, p_value, dof, expected = stats.chi2_contingency(observed)\n",
    "\n",
    "# Output the results\n",
    "print(f\"Chi-Square Statistic: {round(chi2_statistics,3)}\")\n",
    "print(f\"Degrees of Freedom: {dof}\")\n",
    "print(f\"P-Value: {round(p_value,3)}\")\n",
    "print(\"Expected Frequencies:\")\n",
    "print(expected)"
   ]
  },
  {
   "cell_type": "markdown",
   "metadata": {},
   "source": [
    "### 3. **Determining the Critical Value:**\n",
    "\n",
    "Using the calculated degrees of freedom and a chosen significance level (commonly 0.05), we can find the critical Chi-Square value from the scipy.stats module."
   ]
  },
  {
   "cell_type": "code",
   "execution_count": 25,
   "metadata": {},
   "outputs": [
    {
     "name": "stdout",
     "output_type": "stream",
     "text": [
      "Critical Chi-Square Value: 9.488\n"
     ]
    }
   ],
   "source": [
    "from scipy.stats import chi2\n",
    "\n",
    "# Calculating chi_critical\n",
    "significance_level = 0.05\n",
    "critical_chi_square = chi2.ppf(1 - significance_level, dof)\n",
    "\n",
    "# Print the critical Chi-Square value\n",
    "print(\"Critical Chi-Square Value:\", round(critical_chi_square,3))"
   ]
  },
  {
   "cell_type": "markdown",
   "metadata": {},
   "source": [
    "### 4. **Making Decision:**\n",
    "\n",
    "If the calculated Chi-Square statistic is greater than the critical value, or if the p-value is less than the chosen significance level, we reject the null hypothesis. Otherwise, we fail to reject the null hypothesis."
   ]
  },
  {
   "cell_type": "code",
   "execution_count": 28,
   "metadata": {},
   "outputs": [
    {
     "data": {
      "text/plain": [
       "True"
      ]
     },
     "execution_count": 28,
     "metadata": {},
     "output_type": "execute_result"
    }
   ],
   "source": [
    "chi2_statistics < critical_chi_square"
   ]
  },
  {
   "cell_type": "code",
   "execution_count": 31,
   "metadata": {},
   "outputs": [
    {
     "data": {
      "text/plain": [
       "True"
      ]
     },
     "execution_count": 31,
     "metadata": {},
     "output_type": "execute_result"
    }
   ],
   "source": [
    "p_value > significance_level"
   ]
  },
  {
   "cell_type": "markdown",
   "metadata": {},
   "source": [
    "### **Conclusion**\n",
    "\n",
    "- The chi-square statistics is less than the critical chi-square value, and the p-value is greater than the significance level. \n",
    "\n",
    "- This indicates that we **fail to reject the null hypothesis $(H_0)$**. There is no significant association between the variables. \n",
    "\n",
    "- There is no statistically significant association between the type of smart home device purchased (Smart Thermostats vs. Smart Lights) and the customer satisfaction level. In other words, customer satisfaction appears to be independent of the type of device purchased based on the data provided by Mizzare Corporation."
   ]
  },
  {
   "cell_type": "markdown",
   "metadata": {},
   "source": [
    "####  **Author Information:**\n",
    "- **Author:-**  Er.Pradeep Kumar\n",
    "- **LinkedIn:-**  [https://www.linkedin.com/in/pradeep-kumar-1722b6123/](https://www.linkedin.com/in/pradeep-kumar-1722b6123/)\n",
    "\n",
    "#### **Disclaimer:**\n",
    "This Jupyter Notebook and its contents are shared for educational purposes. The author, Pradeep Kumar, retains ownership and rights to the original content. Any modifications or adaptations should be made with proper attribution and permission from the author."
   ]
  }
 ],
 "metadata": {
  "kernelspec": {
   "display_name": "base",
   "language": "python",
   "name": "python3"
  },
  "language_info": {
   "codemirror_mode": {
    "name": "ipython",
    "version": 3
   },
   "file_extension": ".py",
   "mimetype": "text/x-python",
   "name": "python",
   "nbconvert_exporter": "python",
   "pygments_lexer": "ipython3",
   "version": "3.11.9"
  }
 },
 "nbformat": 4,
 "nbformat_minor": 2
}
