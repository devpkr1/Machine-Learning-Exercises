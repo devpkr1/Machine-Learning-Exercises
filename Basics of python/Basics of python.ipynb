{
 "cells": [
  {
   "cell_type": "markdown",
   "metadata": {},
   "source": [
    "# PYTHON PROGRAMMING ASSIGNMENT"
   ]
  },
  {
   "cell_type": "markdown",
   "metadata": {},
   "source": [
    "## Exercise 1: Prime Numbers\n",
    "\n",
    "Write a Python program that checks whether a given number is prime or not. A prime number is a natural number greater than 1 that has no positive divisors other than 1 and itself."
   ]
  },
  {
   "cell_type": "code",
   "execution_count": 16,
   "metadata": {},
   "outputs": [],
   "source": [
    "# Program for checking prime number\n",
    "\n",
    "def is_prime(n):\n",
    "    if n <= 1:\n",
    "        print(n,\"is not a prime number\")\n",
    "    \n",
    "    # Check for factors from 2 to n-1\n",
    "    for i in range(2, n):\n",
    "        if (n % i) == 0:\n",
    "            print(n,\"is not a prime number\")\n",
    "    print(n,\"is a prime number\")"
   ]
  },
  {
   "cell_type": "code",
   "execution_count": 18,
   "metadata": {},
   "outputs": [
    {
     "name": "stdout",
     "output_type": "stream",
     "text": [
      "2 is a prime number\n"
     ]
    }
   ],
   "source": [
    "# Validating Program by taking input from user\n",
    "\n",
    "num = int(input('Enter any Number = '))\n",
    "\n",
    "is_prime(num)"
   ]
  },
  {
   "cell_type": "markdown",
   "metadata": {},
   "source": [
    "## Exercise 2: Product of Random Numbers\n",
    "\n",
    "Develop a Python program that generates two random numbers and asks the user to enter the product of these numbers. The program should then check if the user's answer is correct and display an appropriate message."
   ]
  },
  {
   "cell_type": "code",
   "execution_count": 121,
   "metadata": {},
   "outputs": [],
   "source": [
    "# Program to generate two random numbers and then check product of it inputed by the user\n",
    "\n",
    "def multiplication_quiz():\n",
    "\n",
    "    # Generating two random numbers\n",
    "    import random as rnd\n",
    "    num1 = rnd.randint(1,30)\n",
    "    num2 = rnd.randint(1,30)\n",
    "    print('First Number =',num1)\n",
    "    print('Second Number =',num2)\n",
    "\n",
    "    # Storing the correct product of generated numbers\n",
    "    correct_answer = num1 * num2\n",
    "\n",
    "    # Ask the user to enter the product of generated numbers\n",
    "    user_answer = int(input('Enter the product of the two numbers: '))\n",
    "\n",
    "    # Check if the user's answer is correct\n",
    "    if user_answer == correct_answer:\n",
    "         print(\"Your answer is correct! Well done.\")\n",
    "    else:\n",
    "        print(f\"Oops! The correct answer is {correct_answer}.\")"
   ]
  },
  {
   "cell_type": "code",
   "execution_count": 124,
   "metadata": {},
   "outputs": [
    {
     "name": "stdout",
     "output_type": "stream",
     "text": [
      "First Number = 3\n",
      "Second Number = 23\n",
      "Your answer is correct! Well done.\n"
     ]
    }
   ],
   "source": [
    "# Validating the program\n",
    "\n",
    "multiplication_quiz()"
   ]
  },
  {
   "cell_type": "markdown",
   "metadata": {},
   "source": [
    "## Exercise 3: Squares of Even/Odd Numbers\n",
    "\n",
    "Create a Python script that prints the squares of all even or odd numbers within the range of 100 to 200. Choose either even or odd numbers and document your choice in the code.\n"
   ]
  },
  {
   "cell_type": "code",
   "execution_count": 120,
   "metadata": {},
   "outputs": [
    {
     "name": "stdout",
     "output_type": "stream",
     "text": [
      "Even Numbers within range 100 to 200 =  [100, 102, 104, 106, 108, 110, 112, 114, 116, 118, 120, 122, 124, 126, 128, 130, 132, 134, 136, 138, 140, 142, 144, 146, 148, 150, 152, 154, 156, 158, 160, 162, 164, 166, 168, 170, 172, 174, 176, 178, 180, 182, 184, 186, 188, 190, 192, 194, 196, 198, 200]\n",
      "Squares of even numbers within range 100 to 200 =  [10000, 10404, 10816, 11236, 11664, 12100, 12544, 12996, 13456, 13924, 14400, 14884, 15376, 15876, 16384, 16900, 17424, 17956, 18496, 19044, 19600, 20164, 20736, 21316, 21904, 22500, 23104, 23716, 24336, 24964, 25600, 26244, 26896, 27556, 28224, 28900, 29584, 30276, 30976, 31684, 32400, 33124, 33856, 34596, 35344, 36100, 36864, 37636, 38416, 39204, 40000]\n"
     ]
    }
   ],
   "source": [
    "# Python script for printing squares of all even numbers within range of 100 to 200.\n",
    "\n",
    "# Initialize two empty lists to store even numbers and their squares\n",
    "even_list = []                           \n",
    "squares = []\n",
    "\n",
    "for i in range(100,201):                   # Iterate over the range of 100 to 200\n",
    "    if i % 2 == 0:                         # Check if the current number is even\n",
    "        even_list.append(i)                # If even, append the number to the even_list\n",
    "        squares.append(i**2)               # Calculate the square of the even number and append it to the squares list\n",
    "print('Even Numbers within range 100 to 200 = ',even_list)\n",
    "print('Squares of even numbers within range 100 to 200 = ',squares)"
   ]
  },
  {
   "cell_type": "markdown",
   "metadata": {},
   "source": [
    "## Exercise 4: Word counter\n",
    "\n",
    "write a program to count the number of words in a given text.\n",
    "\n",
    "**example:**\n",
    "\n",
    "input_text = \"This is a sample text. This text will be used to demonstrate the word counter.\"\n"
   ]
  },
  {
   "cell_type": "code",
   "execution_count": 118,
   "metadata": {},
   "outputs": [],
   "source": [
    "# Program for Word Counter \n",
    "\n",
    "def word_counter(text):                                  \n",
    "    import regex as re \n",
    "    word_count = {}                               # Initialize an empty dictionary to store the word frequencies\n",
    "    words = re.sub(r'[^\\w\\s]', '', text).split()  # Preprocess the input text to extract individual words\n",
    "    for i in words:                               # Iterate over each word in the list of words\n",
    "        if i in word_count:                       # Check if the current word is already present in the word_count dictionary\n",
    "            word_count[i] += 1                    # If it is, increment its count by 1\n",
    "        else:\n",
    "            word_count[i] = 1                     # If it's not, set its count to 1\n",
    "    print('Word Count =', word_count)             # Print the resulting word_count dictionary"
   ]
  },
  {
   "cell_type": "code",
   "execution_count": 119,
   "metadata": {},
   "outputs": [
    {
     "name": "stdout",
     "output_type": "stream",
     "text": [
      "Word Count = {'This': 2, 'is': 1, 'a': 1, 'sample': 1, 'text': 2, 'will': 1, 'be': 1, 'used': 1, 'to': 1, 'demonstrate': 1, 'the': 1, 'word': 1, 'counter': 1}\n"
     ]
    }
   ],
   "source": [
    "# Validating the program\n",
    "\n",
    "word_counter('This is a sample text. This text will be used to demonstrate the word counter.')"
   ]
  },
  {
   "cell_type": "markdown",
   "metadata": {},
   "source": [
    "## Exercise 5: Check for Palindrome\n",
    "\n",
    "Write a Python function called is_palindrome that takes a string as input and returns True if the string is a palindrome, and False otherwise. A palindrome is a word, phrase, number, or other sequence of characters that reads the same forward and backward, ignoring spaces, punctuation, and capitalization.\n",
    "\n",
    "**Example:**\n",
    "\n",
    "Input: \"racecar\"\n"
   ]
  },
  {
   "cell_type": "code",
   "execution_count": 113,
   "metadata": {},
   "outputs": [],
   "source": [
    "# Program to check palindrome\n",
    "\n",
    "def is_palindrome(text):\n",
    "    import regex as re\n",
    "    \"\"\"\n",
    "    Returns True if the input string is a palindrome, False otherwise.\n",
    "    \"\"\"\n",
    "    # Remove spaces and punctuation, and convert to lowercase\n",
    "    text = re.sub(r'[^\\w]', '', text).lower()\n",
    "    # Compare the string with its reverse\n",
    "    return text == text[::-1]"
   ]
  },
  {
   "cell_type": "code",
   "execution_count": 117,
   "metadata": {},
   "outputs": [
    {
     "data": {
      "text/plain": [
       "True"
      ]
     },
     "execution_count": 117,
     "metadata": {},
     "output_type": "execute_result"
    }
   ],
   "source": [
    "# Validating Program\n",
    "\n",
    "is_palindrome('racecar')"
   ]
  },
  {
   "cell_type": "markdown",
   "metadata": {},
   "source": [
    "####  **Author Information:**\n",
    "- **Author:-**  Er.Pradeep Kumar\n",
    "- **LinkedIn:-**  [https://www.linkedin.com/in/pradeep-kumar-1722b6123/](https://www.linkedin.com/in/pradeep-kumar-1722b6123/)\n",
    "\n",
    "#### **Disclaimer:**\n",
    "This Jupyter Notebook and its contents are shared for educational purposes. The author, Pradeep Kumar, retains ownership and rights to the original content. Any modifications or adaptations should be made with proper attribution and permission from the author."
   ]
  }
 ],
 "metadata": {
  "kernelspec": {
   "display_name": "base",
   "language": "python",
   "name": "python3"
  },
  "language_info": {
   "codemirror_mode": {
    "name": "ipython",
    "version": 3
   },
   "file_extension": ".py",
   "mimetype": "text/x-python",
   "name": "python",
   "nbconvert_exporter": "python",
   "pygments_lexer": "ipython3",
   "version": "3.11.9"
  }
 },
 "nbformat": 4,
 "nbformat_minor": 2
}
